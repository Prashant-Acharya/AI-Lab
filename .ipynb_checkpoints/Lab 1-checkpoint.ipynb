{
 "cells": [
  {
   "cell_type": "markdown",
   "metadata": {},
   "source": [
    "### LAB 1: Demonstrate basic language constructs of Python\n",
    "\n",
    "- Display Multiplication Table of entered number\n",
    "- Check if the entered number is prime\n",
    "- Find the factorial of given number"
   ]
  },
  {
   "cell_type": "code",
   "execution_count": 5,
   "metadata": {
    "scrolled": true
   },
   "outputs": [
    {
     "name": "stdout",
     "output_type": "stream",
     "text": [
      "Enter a number: 4\n",
      "4  *  1 = 4\n",
      "4  *  2 = 8\n",
      "4  *  3 = 12\n",
      "4  *  4 = 16\n",
      "4  *  5 = 20\n",
      "4  *  6 = 24\n",
      "4  *  7 = 28\n",
      "4  *  8 = 32\n",
      "4  *  9 = 36\n",
      "4  *  10 = 40\n"
     ]
    }
   ],
   "source": [
    "number = int(input('Enter a number: '))\n",
    "\n",
    "for i in range(1,11):\n",
    "    print(number, ' * ', i, '=', number*i)"
   ]
  },
  {
   "cell_type": "code",
   "execution_count": null,
   "metadata": {},
   "outputs": [],
   "source": []
  }
 ],
 "metadata": {
  "kernelspec": {
   "display_name": "Python 3",
   "language": "python",
   "name": "python3"
  }
 },
 "nbformat": 4,
 "nbformat_minor": 2
}
